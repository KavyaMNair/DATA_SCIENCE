{
 "cells": [
  {
   "cell_type": "code",
   "execution_count": 13,
   "id": "2caaeec3",
   "metadata": {},
   "outputs": [
    {
     "name": "stdout",
     "output_type": "stream",
     "text": [
      "Array1:\n",
      "[[2 3 5]\n",
      " [1 2 3]\n",
      " [5 2 1]]\n",
      "Array2:\n",
      "[[1 3 2]\n",
      " [4 2 5]\n",
      " [6 3 1]]\n",
      "\n",
      "Multiply said arrays of same size element-by-element:\n",
      "[[ 2  9 10]\n",
      " [ 4  4 15]\n",
      " [30  6  1]]\n"
     ]
    }
   ],
   "source": [
    "import numpy as np \n",
    "array1 = np.array([[2,3,5],[1,2,3],[5,2,1]])\n",
    "array2 = np.array([[1,3,2],[4,2,5],[6,3,1]])\n",
    "print(\"Array1:\") \n",
    "print(array1)\n",
    "print(\"Array2:\") \n",
    "print(array2)\n",
    "print(\"\\nMultiply said arrays of same size element-by-element:\")\n",
    "print(np.multiply(array1,array2))\n"
   ]
  },
  {
   "cell_type": "code",
   "execution_count": null,
   "id": "ca38b0cb",
   "metadata": {},
   "outputs": [],
   "source": []
  },
  {
   "cell_type": "code",
   "execution_count": null,
   "id": "dbe0b91a",
   "metadata": {},
   "outputs": [],
   "source": []
  },
  {
   "cell_type": "code",
   "execution_count": null,
   "id": "ec800ab1",
   "metadata": {},
   "outputs": [],
   "source": []
  },
  {
   "cell_type": "code",
   "execution_count": null,
   "id": "36fc9b73",
   "metadata": {},
   "outputs": [],
   "source": []
  },
  {
   "cell_type": "code",
   "execution_count": null,
   "id": "fe6f876e",
   "metadata": {},
   "outputs": [],
   "source": []
  },
  {
   "cell_type": "code",
   "execution_count": null,
   "id": "d73cd816",
   "metadata": {},
   "outputs": [],
   "source": []
  },
  {
   "cell_type": "code",
   "execution_count": null,
   "id": "c0f10617",
   "metadata": {},
   "outputs": [],
   "source": []
  }
 ],
 "metadata": {
  "kernelspec": {
   "display_name": "Python 3 (ipykernel)",
   "language": "python",
   "name": "python3"
  },
  "language_info": {
   "codemirror_mode": {
    "name": "ipython",
    "version": 3
   },
   "file_extension": ".py",
   "mimetype": "text/x-python",
   "name": "python",
   "nbconvert_exporter": "python",
   "pygments_lexer": "ipython3",
   "version": "3.9.7"
  }
 },
 "nbformat": 4,
 "nbformat_minor": 5
}
