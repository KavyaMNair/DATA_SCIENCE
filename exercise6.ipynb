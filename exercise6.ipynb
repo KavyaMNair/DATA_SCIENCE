{
  "nbformat": 4,
  "nbformat_minor": 0,
  "metadata": {
    "colab": {
      "name": "DS_EXERCISE-6.ipynb",
      "provenance": [],
      "collapsed_sections": []
    },
    "kernelspec": {
      "name": "python3",
      "display_name": "Python 3"
    },
    "language_info": {
      "name": "python"
    }
  },
  "cells": [
    {
      "cell_type": "code",
      "source": [
        "#Naive Bayes Algorithm\n",
        "\n",
        "from sklearn.datasets import load_iris\n",
        "from sklearn.model_selection import train_test_split\n",
        "from sklearn.naive_bayes import GaussianNB\n",
        "\n",
        "X,y=load_iris(return_X_y=True)\n",
        "\n",
        "xtrain,xtest,ytrain,ytest=train_test_split(X,y,test_size=0.5,random_state=0)\n",
        "gnb=GaussianNB()\n",
        "ypred=gnb.fit(xtrain,ytrain).predict(xtest)\n",
        "print(ypred)\n",
        "sample=[[5,5,4,5]]\n",
        "ynew=gnb.fit(xtrain,ytrain).predict(sample)\n",
        "print(ynew)\n",
        "\n",
        "from sklearn import metrics\n",
        "print(\"Accuracy : \",metrics.accuracy_score(ytest,ypred))"
      ],
      "metadata": {
        "id": "CL_AU94g-Y0p",
        "colab": {
          "base_uri": "https://localhost:8080/"
        },
        "outputId": "721d808b-90e5-4afc-c984-87c10a0da81b"
      },
      "execution_count": 1,
      "outputs": [
        {
          "output_type": "stream",
          "name": "stdout",
          "text": [
            "[2 1 0 2 0 2 0 1 1 1 1 1 1 1 1 0 1 1 0 0 2 1 0 0 2 0 0 1 1 0 2 1 0 2 2 1 0\n",
            " 1 1 1 2 0 2 0 0 1 2 2 1 2 1 2 1 1 2 1 1 2 1 2 1 0 2 1 1 1 1 2 0 0 2 1 0 0\n",
            " 1]\n",
            "[2]\n",
            "Accuracy :  0.9466666666666667\n"
          ]
        }
      ]
    }
  ]
}