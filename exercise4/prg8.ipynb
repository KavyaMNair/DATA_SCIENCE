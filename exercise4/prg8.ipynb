{
 "cells": [
  {
   "cell_type": "code",
   "execution_count": 4,
   "id": "dd85dfad",
   "metadata": {},
   "outputs": [
    {
     "name": "stdout",
     "output_type": "stream",
     "text": [
      "   name  age  id\n",
      "0   sam   22   6\n",
      "1  sinu   25   8\n"
     ]
    }
   ],
   "source": [
    "import pandas as pd\n",
    "di= {'name': ['sam', 'sinu', 'abhi'],\n",
    "     'age' : [22, 25, 24],\n",
    "      'id' : [6,8,7]}\n",
    "df = pd.DataFrame(di)\n",
    "op= df.loc[[0,1], :]\n",
    "print(op)"
   ]
  },
  {
   "cell_type": "code",
   "execution_count": null,
   "id": "44733f69",
   "metadata": {},
   "outputs": [],
   "source": []
  }
 ],
 "metadata": {
  "kernelspec": {
   "display_name": "Python 3 (ipykernel)",
   "language": "python",
   "name": "python3"
  },
  "language_info": {
   "codemirror_mode": {
    "name": "ipython",
    "version": 3
   },
   "file_extension": ".py",
   "mimetype": "text/x-python",
   "name": "python",
   "nbconvert_exporter": "python",
   "pygments_lexer": "ipython3",
   "version": "3.9.7"
  }
 },
 "nbformat": 4,
 "nbformat_minor": 5
}
