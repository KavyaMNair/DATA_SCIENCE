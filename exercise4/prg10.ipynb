{
 "cells": [
  {
   "cell_type": "code",
   "execution_count": 14,
   "id": "d666752a",
   "metadata": {},
   "outputs": [
    {
     "name": "stdout",
     "output_type": "stream",
     "text": [
      "    name      occu     sala\n",
      "0    sam    doctor      NaN\n",
      "1   sinu  engineer  25500.0\n",
      "2   abhi    driver      NaN\n",
      "3   hema    doctor  35500.0\n",
      "4  malik    driver  34500.0\n",
      "5  deepa  engineer      NaN\n",
      "\n",
      "    name      occu     sala\n",
      "0    sam    doctor      0.0\n",
      "1   sinu  engineer  25500.0\n",
      "2   abhi    driver      0.0\n",
      "3   hema    doctor  35500.0\n",
      "4  malik    driver  34500.0\n",
      "5  deepa  engineer      0.0\n"
     ]
    }
   ],
   "source": [
    "import pandas as pd\n",
    "import numpy as np\n",
    "di= {'name': ['sam', 'sinu', 'abhi','hema','malik','deepa'],\n",
    "     'occu' : ['doctor','engineer','driver','doctor','driver','engineer'],\n",
    "     'sala' : [np.nan,25500,np.nan,35500,34500,np.nan]}\n",
    "df = pd.DataFrame(di)\n",
    "print(df)\n",
    "print()\n",
    "dfn= df.fillna(0)\n",
    "print(dfn)"
   ]
  },
  {
   "cell_type": "code",
   "execution_count": null,
   "id": "de703224",
   "metadata": {},
   "outputs": [],
   "source": []
  },
  {
   "cell_type": "code",
   "execution_count": null,
   "id": "a25f981a",
   "metadata": {},
   "outputs": [],
   "source": []
  },
  {
   "cell_type": "code",
   "execution_count": null,
   "id": "db8b220a",
   "metadata": {},
   "outputs": [],
   "source": []
  },
  {
   "cell_type": "code",
   "execution_count": null,
   "id": "e22432de",
   "metadata": {},
   "outputs": [],
   "source": []
  }
 ],
 "metadata": {
  "kernelspec": {
   "display_name": "Python 3 (ipykernel)",
   "language": "python",
   "name": "python3"
  },
  "language_info": {
   "codemirror_mode": {
    "name": "ipython",
    "version": 3
   },
   "file_extension": ".py",
   "mimetype": "text/x-python",
   "name": "python",
   "nbconvert_exporter": "python",
   "pygments_lexer": "ipython3",
   "version": "3.9.7"
  }
 },
 "nbformat": 4,
 "nbformat_minor": 5
}
