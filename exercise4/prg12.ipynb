{
 "cells": [
  {
   "cell_type": "code",
   "execution_count": 5,
   "id": "0297024d",
   "metadata": {},
   "outputs": [
    {
     "name": "stdout",
     "output_type": "stream",
     "text": [
      "   eid   ename  stipend\n",
      "0    5  ramlal     3000\n",
      "1    8  Khushi     1000\n",
      "2    3    binu      500\n",
      "3    1  seetha     5000\n",
      "4    9   priya     3200\n",
      "\n",
      "   eid    position\n",
      "0    8    employee\n",
      "1    1  senior_emp\n",
      "2    3      intern\n",
      "3    9    employee\n",
      "4    5    employee\n",
      "\n",
      "   eid   ename  stipend    position\n",
      "0    5  ramlal     3000    employee\n",
      "1    8  Khushi     1000    employee\n",
      "2    3    binu      500      intern\n",
      "3    1  seetha     5000  senior_emp\n",
      "4    9   priya     3200    employee\n"
     ]
    }
   ],
   "source": [
    "import pandas as pd\n",
    "lists1=[[5,'ramlal',3000],\n",
    "       [8,'Khushi',1000],\n",
    "       [3,'binu',500],\n",
    "       [1,'seetha',5000],\n",
    "       [9,'priya',3200]]\n",
    "df1= pd.DataFrame(lists1,columns = ['eid','ename','stipend'])\n",
    "print(df1)\n",
    "print()\n",
    "\n",
    "lists2=[[8,'employee'],\n",
    "       [1,'senior_emp'],\n",
    "       [3,'intern'],\n",
    "       [9,'employee'],\n",
    "       [5,'employee']]\n",
    "df2= pd.DataFrame(lists2,columns = ['eid','position'])\n",
    "print(df2)\n",
    "print()\n",
    "\n",
    "df= pd.merge(df1,df2,how='inner',on='eid')\n",
    "print(df)\n",
    "\n"
   ]
  },
  {
   "cell_type": "code",
   "execution_count": null,
   "id": "8afaa1d7",
   "metadata": {},
   "outputs": [],
   "source": []
  }
 ],
 "metadata": {
  "kernelspec": {
   "display_name": "Python 3 (ipykernel)",
   "language": "python",
   "name": "python3"
  },
  "language_info": {
   "codemirror_mode": {
    "name": "ipython",
    "version": 3
   },
   "file_extension": ".py",
   "mimetype": "text/x-python",
   "name": "python",
   "nbconvert_exporter": "python",
   "pygments_lexer": "ipython3",
   "version": "3.9.7"
  }
 },
 "nbformat": 4,
 "nbformat_minor": 5
}
