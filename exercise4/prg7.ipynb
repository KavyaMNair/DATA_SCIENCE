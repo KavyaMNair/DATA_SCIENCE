{
 "cells": [
  {
   "cell_type": "code",
   "execution_count": 4,
   "id": "899064eb",
   "metadata": {},
   "outputs": [
    {
     "name": "stdout",
     "output_type": "stream",
     "text": [
      "    name  age\n",
      "id           \n",
      "6    sam   22\n",
      "8   sinu   25\n",
      "7   abhi   24\n",
      "\n",
      "   id  name  age\n",
      "0   6   sam   22\n",
      "1   8  sinu   25\n",
      "2   7  abhi   24\n"
     ]
    }
   ],
   "source": [
    "import pandas as pd\n",
    "di= {'name': ['sam', 'sinu', 'abhi'],\n",
    "     'age' : [22, 25, 24],\n",
    "      'id' : [6,8,7]}\n",
    "df = pd.DataFrame(di)\n",
    "df_ci=df.set_index('id')\n",
    "print(df_ci)\n",
    "print()\n",
    "df=df_ci.reset_index()\n",
    "print(df)"
   ]
  },
  {
   "cell_type": "code",
   "execution_count": null,
   "id": "b72da4a0",
   "metadata": {},
   "outputs": [],
   "source": []
  }
 ],
 "metadata": {
  "kernelspec": {
   "display_name": "Python 3 (ipykernel)",
   "language": "python",
   "name": "python3"
  },
  "language_info": {
   "codemirror_mode": {
    "name": "ipython",
    "version": 3
   },
   "file_extension": ".py",
   "mimetype": "text/x-python",
   "name": "python",
   "nbconvert_exporter": "python",
   "pygments_lexer": "ipython3",
   "version": "3.9.7"
  }
 },
 "nbformat": 4,
 "nbformat_minor": 5
}
