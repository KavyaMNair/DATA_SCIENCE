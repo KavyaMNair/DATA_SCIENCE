{
 "cells": [
  {
   "cell_type": "code",
   "execution_count": 2,
   "id": "ed366589",
   "metadata": {},
   "outputs": [
    {
     "name": "stdout",
     "output_type": "stream",
     "text": [
      "             cname  profit\n",
      "0    ramlal stores   50000\n",
      "1   Khushi enterpr  -25000\n",
      "2  brothers furnit   24500\n",
      "3     seetha store   -1000\n",
      "4   plavila furnit   33000\n",
      "\n",
      "             cname  profit\n",
      "0    ramlal stores    True\n",
      "1   Khushi enterpr   False\n",
      "2  brothers furnit    True\n",
      "3     seetha store   False\n",
      "4   plavila furnit    True\n"
     ]
    }
   ],
   "source": [
    "import pandas as pd\n",
    "lists=[['ramlal stores',50000],\n",
    "       ['Khushi enterpr',-25000],\n",
    "       ['brothers furnit',24500],\n",
    "       ['seetha store',-1000],\n",
    "       ['plavila furnit',33000]]\n",
    "df= pd.DataFrame(lists,columns = ['cname','profit'])\n",
    "print(df)\n",
    "print()\n",
    "df['profit']=df['profit'].apply(lambda x:x>0)\n",
    "print(df)"
   ]
  },
  {
   "cell_type": "code",
   "execution_count": null,
   "id": "296c776b",
   "metadata": {},
   "outputs": [],
   "source": []
  }
 ],
 "metadata": {
  "kernelspec": {
   "display_name": "Python 3 (ipykernel)",
   "language": "python",
   "name": "python3"
  },
  "language_info": {
   "codemirror_mode": {
    "name": "ipython",
    "version": 3
   },
   "file_extension": ".py",
   "mimetype": "text/x-python",
   "name": "python",
   "nbconvert_exporter": "python",
   "pygments_lexer": "ipython3",
   "version": "3.9.7"
  }
 },
 "nbformat": 4,
 "nbformat_minor": 5
}
