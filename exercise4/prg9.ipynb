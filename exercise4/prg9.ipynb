{
 "cells": [
  {
   "cell_type": "code",
   "execution_count": 4,
   "id": "04a2a4f8",
   "metadata": {},
   "outputs": [
    {
     "name": "stdout",
     "output_type": "stream",
     "text": [
      "    name      occu   sala\n",
      "0    sam    doctor  22000\n",
      "1   sinu  engineer  25500\n",
      "2   abhi    driver  17000\n",
      "3   hema    doctor  23400\n",
      "4  malik    driver  14000\n",
      "\n",
      "occu\n",
      "doctor      22700.0\n",
      "driver      15500.0\n",
      "engineer    25500.0\n",
      "Name: sala, dtype: float64\n"
     ]
    }
   ],
   "source": [
    "import pandas as pd\n",
    "di= {'name': ['sam', 'sinu', 'abhi','hema','malik'],\n",
    "     'occu' : ['doctor','engineer','driver','doctor','driver'],\n",
    "     'sala' : [22000, 25500, 17000,23400,14000]}\n",
    "df = pd.DataFrame(di)\n",
    "print(df)\n",
    "print()\n",
    "avg_sal=df.groupby('occu')['sala'].mean()\n",
    "print(avg_sal)\n"
   ]
  },
  {
   "cell_type": "code",
   "execution_count": null,
   "id": "fe1e4b7a",
   "metadata": {},
   "outputs": [],
   "source": []
  }
 ],
 "metadata": {
  "kernelspec": {
   "display_name": "Python 3 (ipykernel)",
   "language": "python",
   "name": "python3"
  },
  "language_info": {
   "codemirror_mode": {
    "name": "ipython",
    "version": 3
   },
   "file_extension": ".py",
   "mimetype": "text/x-python",
   "name": "python",
   "nbconvert_exporter": "python",
   "pygments_lexer": "ipython3",
   "version": "3.9.7"
  }
 },
 "nbformat": 4,
 "nbformat_minor": 5
}
