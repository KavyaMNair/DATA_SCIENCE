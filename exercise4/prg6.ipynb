{
 "cells": [
  {
   "cell_type": "code",
   "execution_count": 4,
   "id": "5ce761a8",
   "metadata": {},
   "outputs": [
    {
     "name": "stdout",
     "output_type": "stream",
     "text": [
      "   name  age  id\n",
      "0   sam   22   6\n",
      "1  sinu   25   8\n",
      "2  abhi   24   7\n",
      "\n",
      "   name  age  id\n",
      "0   sam   22   6\n",
      "2  abhi   24   7\n",
      "1  sinu   25   8\n"
     ]
    }
   ],
   "source": [
    "import pandas as pd\n",
    "di= {'name': ['sam', 'sinu', 'abhi'],\n",
    "     'age' : [22, 25, 24],\n",
    "      'id' : [6,8,7]}\n",
    "df = pd.DataFrame(di)\n",
    "print(df)\n",
    "print()\n",
    "dfs= df.sort_values(by = ['id','age'])\n",
    "print(dfs)"
   ]
  },
  {
   "cell_type": "code",
   "execution_count": null,
   "id": "9070c7e7",
   "metadata": {},
   "outputs": [],
   "source": []
  }
 ],
 "metadata": {
  "kernelspec": {
   "display_name": "Python 3 (ipykernel)",
   "language": "python",
   "name": "python3"
  },
  "language_info": {
   "codemirror_mode": {
    "name": "ipython",
    "version": 3
   },
   "file_extension": ".py",
   "mimetype": "text/x-python",
   "name": "python",
   "nbconvert_exporter": "python",
   "pygments_lexer": "ipython3",
   "version": "3.9.7"
  }
 },
 "nbformat": 4,
 "nbformat_minor": 5
}
