{
  "nbformat": 4,
  "nbformat_minor": 0,
  "metadata": {
    "colab": {
      "name": "DS_EXERCISE-5.ipynb",
      "provenance": [],
      "collapsed_sections": []
    },
    "kernelspec": {
      "name": "python3",
      "display_name": "Python 3"
    },
    "language_info": {
      "name": "python"
    }
  },
  "cells": [
    {
      "cell_type": "code",
      "execution_count": 3,
      "metadata": {
        "colab": {
          "base_uri": "https://localhost:8080/"
        },
        "id": "rO311uHkpo2g",
        "outputId": "9ac0afec-6157-431c-9a78-ca6ba4103e47"
      },
      "outputs": [
        {
          "output_type": "stream",
          "name": "stdout",
          "text": [
            "Target Prediction :  [0 1 1 0 2 1 2 0 0 2 1 0 2 1 1 0 1 1 0 0 1 1 1 0 2 1 0 0 1 2 1 2 1 2 2 0 1\n",
            " 0 1 2 2 0 1 2 1]\n",
            "Accuracy :  0.9777777777777777\n",
            "['versicolor']\n"
          ]
        }
      ],
      "source": [
        "#KNN Algorithm\n",
        "\n",
        "from sklearn.datasets import load_iris\n",
        "from sklearn.model_selection import train_test_split\n",
        "from sklearn.neighbors import KNeighborsClassifier\n",
        "from sklearn import metrics\n",
        "iris=load_iris()\n",
        "data1=iris.data\n",
        "target1=iris.target\n",
        "data1_train,data1_test,target1_train,target1_test=train_test_split(data1,target1,test_size=0.3,random_state=1)\n",
        "c_knn=KNeighborsClassifier(n_neighbors=3)\n",
        "c_knn.fit(data1_train,target1_train)\n",
        "target1_pred=c_knn.predict(data1_test)\n",
        "print(\"Target Prediction : \",target1_pred)\n",
        "print(\"Accuracy : \",metrics.accuracy_score(target1_test,target1_pred))\n",
        "test1=[[3,4,4,2]]\n",
        "pred=c_knn.predict(test1)\n",
        "pred_value=[iris.target_names[p] for p in pred]\n",
        "print(pred_value)"
      ]
    }
  ]
}